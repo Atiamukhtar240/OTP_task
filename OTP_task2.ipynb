{
 "cells": [
  {
   "cell_type": "code",
   "execution_count": 4,
   "id": "a709b353",
   "metadata": {},
   "outputs": [],
   "source": [
    "import random\n",
    "import tkinter as tk\n",
    "\n",
    "# Function to generate OTP and display it in the label\n",
    "def generate_otp():\n",
    "    otp = random.randint(100000, 999999)\n",
    "    otp_label.config(text=f\"Your OTP is: {otp}\")\n",
    "\n",
    "# Function to verify OTP\n",
    "def verify_otp():\n",
    "    user_otp = int(otp_entry.get())\n",
    "    if user_otp == int(otp_label.cget(\"text\").split()[-1]):\n",
    "        result_label.config(text=\"OTP verification successful!\")\n",
    "    else:\n",
    "        result_label.config(text=\"OTP verification failed.\")\n",
    "\n",
    "# Create a tkinter window\n",
    "window = tk.Tk()\n",
    "window.title(\"OTP Verification\")\n",
    "\n",
    "# Create a label to display OTP\n",
    "otp_label = tk.Label(window, text=\"Click 'Generate OTP' to get your OTP.\")\n",
    "otp_label.pack(pady=10)\n",
    "\n",
    "# Create a button to generate OTP\n",
    "generate_button = tk.Button(window, text=\"Generate OTP\", command=generate_otp)\n",
    "generate_button.pack(pady=10)\n",
    "\n",
    "# Create a label and entry for OTP verification\n",
    "otp_verify_label = tk.Label(window, text=\"Enter the OTP you received:\")\n",
    "otp_verify_label.pack(pady=10)\n",
    "\n",
    "otp_entry = tk.Entry(window)\n",
    "otp_entry.pack(pady=10)\n",
    "\n",
    "# Create a button to verify OTP\n",
    "verify_button = tk.Button(window, text=\"Verify OTP\", command=verify_otp)\n",
    "verify_button.pack(pady=10)\n",
    "\n",
    "# Create a label to display the result of OTP verification\n",
    "result_label = tk.Label(window, text=\"\")\n",
    "result_label.pack(pady=10)\n",
    "\n",
    "# Start the tkinter event loop\n",
    "window.mainloop()"
   ]
  },
  {
   "cell_type": "code",
   "execution_count": null,
   "id": "58b2adbe",
   "metadata": {},
   "outputs": [],
   "source": []
  },
  {
   "cell_type": "code",
   "execution_count": null,
   "id": "778bb858",
   "metadata": {},
   "outputs": [],
   "source": []
  },
  {
   "cell_type": "code",
   "execution_count": null,
   "id": "7ccc427d",
   "metadata": {},
   "outputs": [],
   "source": []
  }
 ],
 "metadata": {
  "kernelspec": {
   "display_name": "Python 3 (ipykernel)",
   "language": "python",
   "name": "python3"
  },
  "language_info": {
   "codemirror_mode": {
    "name": "ipython",
    "version": 3
   },
   "file_extension": ".py",
   "mimetype": "text/x-python",
   "name": "python",
   "nbconvert_exporter": "python",
   "pygments_lexer": "ipython3",
   "version": "3.9.13"
  }
 },
 "nbformat": 4,
 "nbformat_minor": 5
}
